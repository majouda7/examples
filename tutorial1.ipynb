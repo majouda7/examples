{
 "metadata": {
  "name": "tutorial1"
 },
 "nbformat": 3,
 "nbformat_minor": 0,
 "worksheets": [
  {
   "cells": [
    {
     "cell_type": "code",
     "collapsed": false,
     "input": [
      "from PyGMO import *\n",
      "prob = problem.messenger_full()\n",
      "de_variants = [2,3,5,7]\n",
      "algos = [algorithm.de(gen=50,variant=v) for v in de_variants]\n",
      "archi = archipelago(topology=topology.fully_connected())\n",
      "for algo in algos:\n",
      "     archi.push_back(island(algo,prob,25))"
     ],
     "language": "python",
     "metadata": {},
     "outputs": [],
     "prompt_number": 1
    },
    {
     "cell_type": "code",
     "collapsed": false,
     "input": [
      "pos = archi.draw(n_size=100,e_arrows=True)"
     ],
     "language": "python",
     "metadata": {},
     "outputs": [],
     "prompt_number": 3
    },
    {
     "cell_type": "code",
     "collapsed": false,
     "input": [
      "algos"
     ],
     "language": "python",
     "metadata": {},
     "outputs": [
      {
       "output_type": "pyout",
       "prompt_number": 4,
       "text": [
        "[Algorithm name: Differential Evolution - gen:50 F: 0.8 CR: 0.9 variant:2 ftol:1e-006 xtol:1e-006,\n",
        " Algorithm name: Differential Evolution - gen:50 F: 0.8 CR: 0.9 variant:3 ftol:1e-006 xtol:1e-006,\n",
        " Algorithm name: Differential Evolution - gen:50 F: 0.8 CR: 0.9 variant:5 ftol:1e-006 xtol:1e-006,\n",
        " Algorithm name: Differential Evolution - gen:50 F: 0.8 CR: 0.9 variant:7 ftol:1e-006 xtol:1e-006]"
       ]
      },
      {
       "output_type": "pyout",
       "prompt_number": 5,
       "text": [
        "[Algorithm name: Differential Evolution - gen:50 F: 0.8 CR: 0.9 variant:2 ftol:1e-006 xtol:1e-006,\n",
        " Algorithm name: Differential Evolution - gen:50 F: 0.8 CR: 0.9 variant:3 ftol:1e-006 xtol:1e-006,\n",
        " Algorithm name: Differential Evolution - gen:50 F: 0.8 CR: 0.9 variant:5 ftol:1e-006 xtol:1e-006,\n",
        " Algorithm name: Differential Evolution - gen:50 F: 0.8 CR: 0.9 variant:7 ftol:1e-006 xtol:1e-006]"
       ]
      }
     ],
     "prompt_number": 5
    },
    {
     "cell_type": "code",
     "collapsed": false,
     "input": [
      "archi.evolve(30)\n",
      "print min([isl.population.champion.f[0] for isl in archi])"
     ],
     "language": "python",
     "metadata": {},
     "outputs": [
      {
       "output_type": "stream",
       "stream": "stdout",
       "text": [
        "16.8249458509\n"
       ]
      }
     ],
     "prompt_number": 6
    },
    {
     "cell_type": "code",
     "collapsed": false,
     "input": [
      "def example_1(n_trials=25, variant_adptv=2, memory=True):\n",
      "     from PyGMO import problem, algorithm, island, archipelago\n",
      "     from PyGMO.topology import fully_connected\n",
      "     from numpy import mean, median\n",
      "     results = list()\n",
      "     prob = problem.messenger_full()\n",
      "     de_variants = [11,13,15,17]\n",
      "     algos = [algorithm.jde(gen=50,variant=v, memory=memory, variant_adptv=variant_adptv) for v in de_variants]\n",
      "\n",
      "     for trial in range(n_trials):\n",
      "             archi = archipelago(topology=fully_connected())\n",
      "             for algo in algos:\n",
      "                     archi.push_back(island(algo,prob,25))\n",
      "             print \"Trial N: \" + str(trial)\n",
      "             archi.evolve(30)\n",
      "             results.append(min([isl.population.champion.f[0] for isl in archi]))\n",
      "     return (mean(results), median(results), min(results), max(results))"
     ],
     "language": "python",
     "metadata": {},
     "outputs": [],
     "prompt_number": 10
    },
    {
     "cell_type": "code",
     "collapsed": false,
     "input": [
      "archi.evolve(30)\n",
      "print min([isl.population.champion.f[0] for isl in archi])"
     ],
     "language": "python",
     "metadata": {},
     "outputs": [
      {
       "output_type": "stream",
       "stream": "stdout",
       "text": [
        "15.6847173267\n"
       ]
      }
     ],
     "prompt_number": 8
    },
    {
     "cell_type": "code",
     "collapsed": false,
     "input": [
      "example_1(n_trials=25, variant_adptv=2, memory=True)"
     ],
     "language": "python",
     "metadata": {},
     "outputs": [
      {
       "output_type": "stream",
       "stream": "stdout",
       "text": [
        "Trial N: 0\n",
        "Trial N: 1"
       ]
      },
      {
       "output_type": "stream",
       "stream": "stdout",
       "text": [
        "\n",
        "Trial N: 2"
       ]
      },
      {
       "output_type": "stream",
       "stream": "stdout",
       "text": [
        "\n",
        "Trial N: 3"
       ]
      },
      {
       "output_type": "stream",
       "stream": "stdout",
       "text": [
        "\n",
        "Trial N: 4"
       ]
      },
      {
       "output_type": "stream",
       "stream": "stdout",
       "text": [
        "\n",
        "Trial N: 5"
       ]
      },
      {
       "output_type": "stream",
       "stream": "stdout",
       "text": [
        "\n",
        "Trial N: 6"
       ]
      },
      {
       "output_type": "stream",
       "stream": "stdout",
       "text": [
        "\n",
        "Trial N: 7"
       ]
      },
      {
       "output_type": "stream",
       "stream": "stdout",
       "text": [
        "\n",
        "Trial N: 8"
       ]
      },
      {
       "output_type": "stream",
       "stream": "stdout",
       "text": [
        "\n",
        "Trial N: 9"
       ]
      },
      {
       "output_type": "stream",
       "stream": "stdout",
       "text": [
        "\n",
        "Trial N: 10"
       ]
      },
      {
       "output_type": "stream",
       "stream": "stdout",
       "text": [
        "\n",
        "Trial N: 11"
       ]
      },
      {
       "output_type": "stream",
       "stream": "stdout",
       "text": [
        "\n",
        "Trial N: 12"
       ]
      },
      {
       "output_type": "stream",
       "stream": "stdout",
       "text": [
        "\n",
        "Trial N: 13"
       ]
      },
      {
       "output_type": "stream",
       "stream": "stdout",
       "text": [
        "\n",
        "Trial N: 14"
       ]
      },
      {
       "output_type": "stream",
       "stream": "stdout",
       "text": [
        "\n",
        "Trial N: 15"
       ]
      },
      {
       "output_type": "stream",
       "stream": "stdout",
       "text": [
        "\n",
        "Trial N: 16"
       ]
      },
      {
       "output_type": "stream",
       "stream": "stdout",
       "text": [
        "\n",
        "Trial N: 17"
       ]
      },
      {
       "output_type": "stream",
       "stream": "stdout",
       "text": [
        "\n",
        "Trial N: 18"
       ]
      },
      {
       "output_type": "stream",
       "stream": "stdout",
       "text": [
        "\n",
        "Trial N: 19"
       ]
      },
      {
       "output_type": "stream",
       "stream": "stdout",
       "text": [
        "\n",
        "Trial N: 20"
       ]
      },
      {
       "output_type": "stream",
       "stream": "stdout",
       "text": [
        "\n",
        "Trial N: 21"
       ]
      },
      {
       "output_type": "stream",
       "stream": "stdout",
       "text": [
        "\n",
        "Trial N: 22"
       ]
      },
      {
       "output_type": "stream",
       "stream": "stdout",
       "text": [
        "\n",
        "Trial N: 23"
       ]
      },
      {
       "output_type": "stream",
       "stream": "stdout",
       "text": [
        "\n",
        "Trial N: 24"
       ]
      },
      {
       "output_type": "stream",
       "stream": "stdout",
       "text": [
        "\n"
       ]
      },
      {
       "output_type": "pyout",
       "prompt_number": 11,
       "text": [
        "(16.82575201562171, 17.347964780392083, 11.038140709040572, 20.81392843311048)"
       ]
      }
     ],
     "prompt_number": 11
    },
    {
     "cell_type": "code",
     "collapsed": false,
     "input": [
      "\n"
     ],
     "language": "python",
     "metadata": {},
     "outputs": []
    }
   ],
   "metadata": {}
  }
 ]
}